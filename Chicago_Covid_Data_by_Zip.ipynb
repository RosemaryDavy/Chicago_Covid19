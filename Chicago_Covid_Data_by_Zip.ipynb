{
 "cells": [
  {
   "cell_type": "code",
   "execution_count": 454,
   "id": "ce2ba98b",
   "metadata": {},
   "outputs": [],
   "source": [
    "import pandas as pd \n",
    "import numpy as np \n",
    "import matplotlib.pyplot as plt \n",
    "import seaborn as sns \n",
    "from sklearn.model_selection import train_test_split \n",
    "from sklearn.linear_model import LinearRegression\n",
    "import statsmodels.api as sm\n",
    "%matplotlib inline"
   ]
  },
  {
   "cell_type": "code",
   "execution_count": 455,
   "id": "84aeee92",
   "metadata": {},
   "outputs": [],
   "source": [
    "df = pd.read_csv('/Users/rosemary/Downloads/COVID-19_Cases__Tests__and_Deaths_by_ZIP_Code 2.csv')"
   ]
  },
  {
   "cell_type": "code",
   "execution_count": 456,
   "id": "da15d7e2",
   "metadata": {},
   "outputs": [
    {
     "data": {
      "text/plain": [
       "ZIP Code                                  0\n",
       "Week Number                               0\n",
       "Week Start                                0\n",
       "Week End                                  0\n",
       "CasesWeekly                             223\n",
       "Cases - Cumulative                      223\n",
       "Case Rate - Weekly                      223\n",
       "Case Rate - Cumulative                  223\n",
       "Tests - Weekly                          198\n",
       "Tests - Cumulative                        0\n",
       "Test Rate - Weekly                        0\n",
       "Test Rate - Cumulative                    0\n",
       "Percent Tested Positive - Weekly          0\n",
       "Percent Tested Positive - Cumulative      0\n",
       "DeathsWeekly                              0\n",
       "Deaths - Cumulative                       0\n",
       "Death Rate - Weekly                       0\n",
       "Death Rate - Cumulative                   0\n",
       "Population                                0\n",
       "Row ID                                    0\n",
       "ZIP Code Location                       122\n",
       "dtype: int64"
      ]
     },
     "execution_count": 456,
     "metadata": {},
     "output_type": "execute_result"
    }
   ],
   "source": [
    "df.isnull().sum()"
   ]
  },
  {
   "cell_type": "code",
   "execution_count": 457,
   "id": "13a428b7",
   "metadata": {},
   "outputs": [],
   "source": [
    "df = df.dropna()"
   ]
  },
  {
   "cell_type": "code",
   "execution_count": 458,
   "id": "a8e1d27f",
   "metadata": {},
   "outputs": [
    {
     "data": {
      "text/plain": [
       "ZIP Code                                0\n",
       "Week Number                             0\n",
       "Week Start                              0\n",
       "Week End                                0\n",
       "CasesWeekly                             0\n",
       "Cases - Cumulative                      0\n",
       "Case Rate - Weekly                      0\n",
       "Case Rate - Cumulative                  0\n",
       "Tests - Weekly                          0\n",
       "Tests - Cumulative                      0\n",
       "Test Rate - Weekly                      0\n",
       "Test Rate - Cumulative                  0\n",
       "Percent Tested Positive - Weekly        0\n",
       "Percent Tested Positive - Cumulative    0\n",
       "DeathsWeekly                            0\n",
       "Deaths - Cumulative                     0\n",
       "Death Rate - Weekly                     0\n",
       "Death Rate - Cumulative                 0\n",
       "Population                              0\n",
       "Row ID                                  0\n",
       "ZIP Code Location                       0\n",
       "dtype: int64"
      ]
     },
     "execution_count": 458,
     "metadata": {},
     "output_type": "execute_result"
    }
   ],
   "source": [
    "df.isnull().sum()"
   ]
  },
  {
   "cell_type": "code",
   "execution_count": 459,
   "id": "a148175e",
   "metadata": {},
   "outputs": [
    {
     "data": {
      "text/plain": [
       "ZIP Code                                 object\n",
       "Week Number                               int64\n",
       "Week Start                               object\n",
       "Week End                                 object\n",
       "CasesWeekly                             float64\n",
       "Cases - Cumulative                      float64\n",
       "Case Rate - Weekly                      float64\n",
       "Case Rate - Cumulative                  float64\n",
       "Tests - Weekly                          float64\n",
       "Tests - Cumulative                        int64\n",
       "Test Rate - Weekly                        int64\n",
       "Test Rate - Cumulative                  float64\n",
       "Percent Tested Positive - Weekly        float64\n",
       "Percent Tested Positive - Cumulative    float64\n",
       "DeathsWeekly                              int64\n",
       "Deaths - Cumulative                       int64\n",
       "Death Rate - Weekly                     float64\n",
       "Death Rate - Cumulative                 float64\n",
       "Population                                int64\n",
       "Row ID                                   object\n",
       "ZIP Code Location                        object\n",
       "dtype: object"
      ]
     },
     "execution_count": 459,
     "metadata": {},
     "output_type": "execute_result"
    }
   ],
   "source": [
    "df.dtypes"
   ]
  },
  {
   "cell_type": "code",
   "execution_count": 460,
   "id": "93c264fc",
   "metadata": {},
   "outputs": [],
   "source": [
    "df['DeathsWeekly'] = df['DeathsWeekly'].astype(float)"
   ]
  },
  {
   "cell_type": "code",
   "execution_count": 461,
   "id": "28bd4e81",
   "metadata": {},
   "outputs": [],
   "source": [
    "df['Deaths - Cumulative'] = df['Deaths - Cumulative'].astype(float)"
   ]
  },
  {
   "cell_type": "code",
   "execution_count": 462,
   "id": "37093789",
   "metadata": {},
   "outputs": [],
   "source": [
    "df['Population'] = df['Population'].astype(float)"
   ]
  },
  {
   "cell_type": "code",
   "execution_count": 463,
   "id": "5954584c",
   "metadata": {},
   "outputs": [],
   "source": [
    "df['Tests - Cumulative'] = df['Tests - Cumulative'].astype(float)"
   ]
  },
  {
   "cell_type": "code",
   "execution_count": 464,
   "id": "46aeeb56",
   "metadata": {},
   "outputs": [],
   "source": [
    "df['Test Rate - Weekly'] = df['Test Rate - Weekly'].astype(float)"
   ]
  },
  {
   "cell_type": "code",
   "execution_count": 465,
   "id": "58c2a0d9",
   "metadata": {},
   "outputs": [
    {
     "name": "stdout",
     "output_type": "stream",
     "text": [
      "<class 'pandas.core.frame.DataFrame'>\n",
      "Int64Index: 6781 entries, 0 to 7319\n",
      "Data columns (total 21 columns):\n",
      " #   Column                                Non-Null Count  Dtype  \n",
      "---  ------                                --------------  -----  \n",
      " 0   ZIP Code                              6781 non-null   object \n",
      " 1   Week Number                           6781 non-null   int64  \n",
      " 2   Week Start                            6781 non-null   object \n",
      " 3   Week End                              6781 non-null   object \n",
      " 4   CasesWeekly                           6781 non-null   float64\n",
      " 5   Cases - Cumulative                    6781 non-null   float64\n",
      " 6   Case Rate - Weekly                    6781 non-null   float64\n",
      " 7   Case Rate - Cumulative                6781 non-null   float64\n",
      " 8   Tests - Weekly                        6781 non-null   float64\n",
      " 9   Tests - Cumulative                    6781 non-null   float64\n",
      " 10  Test Rate - Weekly                    6781 non-null   float64\n",
      " 11  Test Rate - Cumulative                6781 non-null   float64\n",
      " 12  Percent Tested Positive - Weekly      6781 non-null   float64\n",
      " 13  Percent Tested Positive - Cumulative  6781 non-null   float64\n",
      " 14  DeathsWeekly                          6781 non-null   float64\n",
      " 15  Deaths - Cumulative                   6781 non-null   float64\n",
      " 16  Death Rate - Weekly                   6781 non-null   float64\n",
      " 17  Death Rate - Cumulative               6781 non-null   float64\n",
      " 18  Population                            6781 non-null   float64\n",
      " 19  Row ID                                6781 non-null   object \n",
      " 20  ZIP Code Location                     6781 non-null   object \n",
      "dtypes: float64(15), int64(1), object(5)\n",
      "memory usage: 1.1+ MB\n"
     ]
    }
   ],
   "source": [
    "df.info()"
   ]
  },
  {
   "cell_type": "code",
   "execution_count": 466,
   "id": "f2727814",
   "metadata": {},
   "outputs": [],
   "source": [
    "X = df['CasesWeekly'].values.reshape(-1,1)\n",
    "y = df['DeathsWeekly'].values.reshape(-1,1)"
   ]
  },
  {
   "cell_type": "code",
   "execution_count": 467,
   "id": "aee2645a",
   "metadata": {},
   "outputs": [
    {
     "data": {
      "text/plain": [
       "array([[ 44.],\n",
       "       [  0.],\n",
       "       [  2.],\n",
       "       ...,\n",
       "       [ 72.],\n",
       "       [148.],\n",
       "       [  5.]])"
      ]
     },
     "execution_count": 467,
     "metadata": {},
     "output_type": "execute_result"
    }
   ],
   "source": [
    "X"
   ]
  },
  {
   "cell_type": "code",
   "execution_count": 468,
   "id": "0f6c7939",
   "metadata": {},
   "outputs": [
    {
     "data": {
      "text/plain": [
       "array([[0.],\n",
       "       [0.],\n",
       "       [0.],\n",
       "       ...,\n",
       "       [0.],\n",
       "       [0.],\n",
       "       [0.]])"
      ]
     },
     "execution_count": 468,
     "metadata": {},
     "output_type": "execute_result"
    }
   ],
   "source": [
    "y"
   ]
  },
  {
   "cell_type": "code",
   "execution_count": 469,
   "id": "fc19b648",
   "metadata": {},
   "outputs": [],
   "source": [
    "X_train, X_test, y_train, y_test = train_test_split(X, y, test_size = 0.2, random_state = 0)"
   ]
  },
  {
   "cell_type": "code",
   "execution_count": 470,
   "id": "9c9d5b21",
   "metadata": {},
   "outputs": [
    {
     "data": {
      "text/plain": [
       "LinearRegression()"
      ]
     },
     "execution_count": 470,
     "metadata": {},
     "output_type": "execute_result"
    }
   ],
   "source": [
    "regressor = LinearRegression() \n",
    "regressor.fit(X_train, y_train) #training the algorithm"
   ]
  },
  {
   "cell_type": "code",
   "execution_count": 471,
   "id": "a1763d60",
   "metadata": {},
   "outputs": [
    {
     "name": "stdout",
     "output_type": "stream",
     "text": [
      "[0.67135979]\n",
      "[[0.00487728]]\n"
     ]
    }
   ],
   "source": [
    "#To retrieve the intercept:\n",
    "print(regressor.intercept_)\n",
    "#For retrieving the slope:\n",
    "print(regressor.coef_)"
   ]
  },
  {
   "cell_type": "code",
   "execution_count": 472,
   "id": "69d3d03e",
   "metadata": {},
   "outputs": [],
   "source": [
    "y_pred = regressor.predict(X_test)"
   ]
  },
  {
   "cell_type": "code",
   "execution_count": 473,
   "id": "4d5437e4",
   "metadata": {},
   "outputs": [
    {
     "data": {
      "text/plain": [
       "array([[97.],\n",
       "       [70.],\n",
       "       [ 6.],\n",
       "       ...,\n",
       "       [30.],\n",
       "       [70.],\n",
       "       [46.]])"
      ]
     },
     "execution_count": 473,
     "metadata": {},
     "output_type": "execute_result"
    }
   ],
   "source": [
    "X_test"
   ]
  },
  {
   "cell_type": "code",
   "execution_count": 474,
   "id": "77b425a8",
   "metadata": {},
   "outputs": [
    {
     "data": {
      "text/plain": [
       "array([[1.14445553],\n",
       "       [1.01276909],\n",
       "       [0.70062344],\n",
       "       ...,\n",
       "       [0.81767806],\n",
       "       [1.01276909],\n",
       "       [0.89571447]])"
      ]
     },
     "execution_count": 474,
     "metadata": {},
     "output_type": "execute_result"
    }
   ],
   "source": [
    "y_pred"
   ]
  },
  {
   "cell_type": "code",
   "execution_count": 475,
   "id": "0f3a8299",
   "metadata": {},
   "outputs": [
    {
     "data": {
      "text/html": [
       "<div>\n",
       "<style scoped>\n",
       "    .dataframe tbody tr th:only-of-type {\n",
       "        vertical-align: middle;\n",
       "    }\n",
       "\n",
       "    .dataframe tbody tr th {\n",
       "        vertical-align: top;\n",
       "    }\n",
       "\n",
       "    .dataframe thead th {\n",
       "        text-align: right;\n",
       "    }\n",
       "</style>\n",
       "<table border=\"1\" class=\"dataframe\">\n",
       "  <thead>\n",
       "    <tr style=\"text-align: right;\">\n",
       "      <th></th>\n",
       "      <th>Actual</th>\n",
       "      <th>Predicted</th>\n",
       "    </tr>\n",
       "  </thead>\n",
       "  <tbody>\n",
       "    <tr>\n",
       "      <th>0</th>\n",
       "      <td>0.0</td>\n",
       "      <td>1.144456</td>\n",
       "    </tr>\n",
       "    <tr>\n",
       "      <th>1</th>\n",
       "      <td>0.0</td>\n",
       "      <td>1.012769</td>\n",
       "    </tr>\n",
       "    <tr>\n",
       "      <th>2</th>\n",
       "      <td>0.0</td>\n",
       "      <td>0.700623</td>\n",
       "    </tr>\n",
       "    <tr>\n",
       "      <th>3</th>\n",
       "      <td>0.0</td>\n",
       "      <td>1.144456</td>\n",
       "    </tr>\n",
       "    <tr>\n",
       "      <th>4</th>\n",
       "      <td>0.0</td>\n",
       "      <td>1.090805</td>\n",
       "    </tr>\n",
       "    <tr>\n",
       "      <th>...</th>\n",
       "      <td>...</td>\n",
       "      <td>...</td>\n",
       "    </tr>\n",
       "    <tr>\n",
       "      <th>1352</th>\n",
       "      <td>1.0</td>\n",
       "      <td>0.949365</td>\n",
       "    </tr>\n",
       "    <tr>\n",
       "      <th>1353</th>\n",
       "      <td>0.0</td>\n",
       "      <td>1.602919</td>\n",
       "    </tr>\n",
       "    <tr>\n",
       "      <th>1354</th>\n",
       "      <td>0.0</td>\n",
       "      <td>0.817678</td>\n",
       "    </tr>\n",
       "    <tr>\n",
       "      <th>1355</th>\n",
       "      <td>4.0</td>\n",
       "      <td>1.012769</td>\n",
       "    </tr>\n",
       "    <tr>\n",
       "      <th>1356</th>\n",
       "      <td>0.0</td>\n",
       "      <td>0.895714</td>\n",
       "    </tr>\n",
       "  </tbody>\n",
       "</table>\n",
       "<p>1357 rows × 2 columns</p>\n",
       "</div>"
      ],
      "text/plain": [
       "      Actual  Predicted\n",
       "0        0.0   1.144456\n",
       "1        0.0   1.012769\n",
       "2        0.0   0.700623\n",
       "3        0.0   1.144456\n",
       "4        0.0   1.090805\n",
       "...      ...        ...\n",
       "1352     1.0   0.949365\n",
       "1353     0.0   1.602919\n",
       "1354     0.0   0.817678\n",
       "1355     4.0   1.012769\n",
       "1356     0.0   0.895714\n",
       "\n",
       "[1357 rows x 2 columns]"
      ]
     },
     "execution_count": 475,
     "metadata": {},
     "output_type": "execute_result"
    }
   ],
   "source": [
    "compare = pd.DataFrame({'Actual': y_test.flatten(), 'Predicted': y_pred.flatten()})\n",
    "compare"
   ]
  },
  {
   "cell_type": "code",
   "execution_count": 476,
   "id": "62b0fd8e",
   "metadata": {},
   "outputs": [
    {
     "data": {
      "text/plain": [
       "array([[97.],\n",
       "       [70.],\n",
       "       [ 6.],\n",
       "       ...,\n",
       "       [30.],\n",
       "       [70.],\n",
       "       [46.]])"
      ]
     },
     "execution_count": 476,
     "metadata": {},
     "output_type": "execute_result"
    }
   ],
   "source": [
    "X_test"
   ]
  },
  {
   "cell_type": "code",
   "execution_count": 477,
   "id": "edef09d9",
   "metadata": {},
   "outputs": [
    {
     "data": {
      "text/plain": [
       "array([[0.],\n",
       "       [0.],\n",
       "       [0.],\n",
       "       ...,\n",
       "       [0.],\n",
       "       [4.],\n",
       "       [0.]])"
      ]
     },
     "execution_count": 477,
     "metadata": {},
     "output_type": "execute_result"
    }
   ],
   "source": [
    "y_test"
   ]
  },
  {
   "cell_type": "code",
   "execution_count": 478,
   "id": "38e17cec",
   "metadata": {},
   "outputs": [
    {
     "data": {
      "image/png": "[encoded data removed]",
      "text/plain": [
       "<Figure size 1080x504 with 1 Axes>"
      ]
     },
     "metadata": {
      "needs_background": "light"
     },
     "output_type": "display_data"
    }
   ],
   "source": [
    "plt.figure(figsize=(15,7))\n",
    "plt.scatter(X_test, y_test, color='gray')\n",
    "plt.plot(X_test, y_pred, color='red', linewidth=2)\n",
    "plt.show()\n",
    "#There is a positive correlation between Cases – Weekly\n",
    "#and Deaths – Weekly, but it is not a very\n",
    "#strong relationship, which is consistent with what we have been\n",
    "#seeing from other parts of the world."
   ]
  },
  {
   "cell_type": "code",
   "execution_count": 479,
   "id": "dee5626b",
   "metadata": {},
   "outputs": [
    {
     "data": {
      "text/plain": [
       "8.0"
      ]
     },
     "execution_count": 479,
     "metadata": {},
     "output_type": "execute_result"
    }
   ],
   "source": [
    "#Finding and getting rid of outliers\n",
    "maxthreshold_Deaths = df['DeathsWeekly'].quantile(0.98)\n",
    "maxthreshold_Deaths"
   ]
  },
  {
   "cell_type": "code",
   "execution_count": 480,
   "id": "770a8517",
   "metadata": {},
   "outputs": [
    {
     "data": {
      "text/html": [
       "<div>\n",
       "<style scoped>\n",
       "    .dataframe tbody tr th:only-of-type {\n",
       "        vertical-align: middle;\n",
       "    }\n",
       "\n",
       "    .dataframe tbody tr th {\n",
       "        vertical-align: top;\n",
       "    }\n",
       "\n",
       "    .dataframe thead th {\n",
       "        text-align: right;\n",
       "    }\n",
       "</style>\n",
       "<table border=\"1\" class=\"dataframe\">\n",
       "  <thead>\n",
       "    <tr style=\"text-align: right;\">\n",
       "      <th></th>\n",
       "      <th>ZIP Code</th>\n",
       "      <th>Week Number</th>\n",
       "      <th>Week Start</th>\n",
       "      <th>Week End</th>\n",
       "      <th>CasesWeekly</th>\n",
       "      <th>Cases - Cumulative</th>\n",
       "      <th>Case Rate - Weekly</th>\n",
       "      <th>Case Rate - Cumulative</th>\n",
       "      <th>Tests - Weekly</th>\n",
       "      <th>Tests - Cumulative</th>\n",
       "      <th>...</th>\n",
       "      <th>Test Rate - Cumulative</th>\n",
       "      <th>Percent Tested Positive - Weekly</th>\n",
       "      <th>Percent Tested Positive - Cumulative</th>\n",
       "      <th>DeathsWeekly</th>\n",
       "      <th>Deaths - Cumulative</th>\n",
       "      <th>Death Rate - Weekly</th>\n",
       "      <th>Death Rate - Cumulative</th>\n",
       "      <th>Population</th>\n",
       "      <th>Row ID</th>\n",
       "      <th>ZIP Code Location</th>\n",
       "    </tr>\n",
       "  </thead>\n",
       "  <tbody>\n",
       "    <tr>\n",
       "      <th>277</th>\n",
       "      <td>60609</td>\n",
       "      <td>20</td>\n",
       "      <td>5/10/20</td>\n",
       "      <td>5/16/20</td>\n",
       "      <td>244.0</td>\n",
       "      <td>1321.0</td>\n",
       "      <td>397.0</td>\n",
       "      <td>2148.1</td>\n",
       "      <td>1010.0</td>\n",
       "      <td>3746.0</td>\n",
       "      <td>...</td>\n",
       "      <td>6091.6</td>\n",
       "      <td>0.3</td>\n",
       "      <td>0.3</td>\n",
       "      <td>11.0</td>\n",
       "      <td>43.0</td>\n",
       "      <td>17.9</td>\n",
       "      <td>69.9</td>\n",
       "      <td>61495.0</td>\n",
       "      <td>60609-2020-20</td>\n",
       "      <td>POINT (-87.653382 41.812017)</td>\n",
       "    </tr>\n",
       "    <tr>\n",
       "      <th>433</th>\n",
       "      <td>60608</td>\n",
       "      <td>24</td>\n",
       "      <td>6/7/20</td>\n",
       "      <td>6/13/20</td>\n",
       "      <td>47.0</td>\n",
       "      <td>1783.0</td>\n",
       "      <td>59.0</td>\n",
       "      <td>2251.1</td>\n",
       "      <td>972.0</td>\n",
       "      <td>7793.0</td>\n",
       "      <td>...</td>\n",
       "      <td>9839.0</td>\n",
       "      <td>0.1</td>\n",
       "      <td>0.2</td>\n",
       "      <td>10.0</td>\n",
       "      <td>61.0</td>\n",
       "      <td>12.6</td>\n",
       "      <td>77.0</td>\n",
       "      <td>79205.0</td>\n",
       "      <td>60608-2020-24</td>\n",
       "      <td>POINT (-87.670366 41.849879)</td>\n",
       "    </tr>\n",
       "    <tr>\n",
       "      <th>847</th>\n",
       "      <td>60623</td>\n",
       "      <td>48</td>\n",
       "      <td>11/22/20</td>\n",
       "      <td>11/28/20</td>\n",
       "      <td>389.0</td>\n",
       "      <td>7556.0</td>\n",
       "      <td>452.0</td>\n",
       "      <td>8788.2</td>\n",
       "      <td>2299.0</td>\n",
       "      <td>47647.0</td>\n",
       "      <td>...</td>\n",
       "      <td>55417.0</td>\n",
       "      <td>0.2</td>\n",
       "      <td>0.2</td>\n",
       "      <td>10.0</td>\n",
       "      <td>196.0</td>\n",
       "      <td>11.6</td>\n",
       "      <td>228.0</td>\n",
       "      <td>85979.0</td>\n",
       "      <td>60623-2020-48</td>\n",
       "      <td>POINT (-87.717446 41.850321)</td>\n",
       "    </tr>\n",
       "    <tr>\n",
       "      <th>848</th>\n",
       "      <td>60623</td>\n",
       "      <td>49</td>\n",
       "      <td>11/29/20</td>\n",
       "      <td>12/5/20</td>\n",
       "      <td>464.0</td>\n",
       "      <td>8020.0</td>\n",
       "      <td>540.0</td>\n",
       "      <td>9327.9</td>\n",
       "      <td>3046.0</td>\n",
       "      <td>50693.0</td>\n",
       "      <td>...</td>\n",
       "      <td>58959.7</td>\n",
       "      <td>0.2</td>\n",
       "      <td>0.2</td>\n",
       "      <td>9.0</td>\n",
       "      <td>205.0</td>\n",
       "      <td>10.5</td>\n",
       "      <td>238.4</td>\n",
       "      <td>85979.0</td>\n",
       "      <td>60623-2020-49</td>\n",
       "      <td>POINT (-87.717446 41.850321)</td>\n",
       "    </tr>\n",
       "    <tr>\n",
       "      <th>907</th>\n",
       "      <td>60617</td>\n",
       "      <td>3</td>\n",
       "      <td>1/16/22</td>\n",
       "      <td>1/22/22</td>\n",
       "      <td>271.0</td>\n",
       "      <td>14743.0</td>\n",
       "      <td>328.0</td>\n",
       "      <td>17862.9</td>\n",
       "      <td>5995.0</td>\n",
       "      <td>198854.0</td>\n",
       "      <td>...</td>\n",
       "      <td>240935.9</td>\n",
       "      <td>0.1</td>\n",
       "      <td>0.1</td>\n",
       "      <td>13.0</td>\n",
       "      <td>236.0</td>\n",
       "      <td>15.8</td>\n",
       "      <td>285.9</td>\n",
       "      <td>82534.0</td>\n",
       "      <td>60617-2022-3</td>\n",
       "      <td>POINT (-87.556897 41.721257)</td>\n",
       "    </tr>\n",
       "    <tr>\n",
       "      <th>...</th>\n",
       "      <td>...</td>\n",
       "      <td>...</td>\n",
       "      <td>...</td>\n",
       "      <td>...</td>\n",
       "      <td>...</td>\n",
       "      <td>...</td>\n",
       "      <td>...</td>\n",
       "      <td>...</td>\n",
       "      <td>...</td>\n",
       "      <td>...</td>\n",
       "      <td>...</td>\n",
       "      <td>...</td>\n",
       "      <td>...</td>\n",
       "      <td>...</td>\n",
       "      <td>...</td>\n",
       "      <td>...</td>\n",
       "      <td>...</td>\n",
       "      <td>...</td>\n",
       "      <td>...</td>\n",
       "      <td>...</td>\n",
       "      <td>...</td>\n",
       "    </tr>\n",
       "    <tr>\n",
       "      <th>6035</th>\n",
       "      <td>60647</td>\n",
       "      <td>21</td>\n",
       "      <td>5/17/20</td>\n",
       "      <td>5/23/20</td>\n",
       "      <td>133.0</td>\n",
       "      <td>1204.0</td>\n",
       "      <td>152.0</td>\n",
       "      <td>1375.9</td>\n",
       "      <td>931.0</td>\n",
       "      <td>4939.0</td>\n",
       "      <td>...</td>\n",
       "      <td>5644.0</td>\n",
       "      <td>0.2</td>\n",
       "      <td>0.2</td>\n",
       "      <td>13.0</td>\n",
       "      <td>69.0</td>\n",
       "      <td>14.9</td>\n",
       "      <td>78.8</td>\n",
       "      <td>87509.0</td>\n",
       "      <td>60647-2020-21</td>\n",
       "      <td>POINT (-87.701101 41.921058)</td>\n",
       "    </tr>\n",
       "    <tr>\n",
       "      <th>6119</th>\n",
       "      <td>60649</td>\n",
       "      <td>15</td>\n",
       "      <td>4/5/20</td>\n",
       "      <td>4/11/20</td>\n",
       "      <td>74.0</td>\n",
       "      <td>222.0</td>\n",
       "      <td>161.0</td>\n",
       "      <td>482.4</td>\n",
       "      <td>212.0</td>\n",
       "      <td>734.0</td>\n",
       "      <td>...</td>\n",
       "      <td>1594.8</td>\n",
       "      <td>0.3</td>\n",
       "      <td>0.3</td>\n",
       "      <td>12.0</td>\n",
       "      <td>22.0</td>\n",
       "      <td>26.1</td>\n",
       "      <td>47.8</td>\n",
       "      <td>46024.0</td>\n",
       "      <td>60649-2020-15</td>\n",
       "      <td>POINT (-87.571522 41.762202)</td>\n",
       "    </tr>\n",
       "    <tr>\n",
       "      <th>6120</th>\n",
       "      <td>60649</td>\n",
       "      <td>16</td>\n",
       "      <td>4/12/20</td>\n",
       "      <td>4/18/20</td>\n",
       "      <td>98.0</td>\n",
       "      <td>320.0</td>\n",
       "      <td>213.0</td>\n",
       "      <td>695.3</td>\n",
       "      <td>308.0</td>\n",
       "      <td>1042.0</td>\n",
       "      <td>...</td>\n",
       "      <td>2264.0</td>\n",
       "      <td>0.3</td>\n",
       "      <td>0.3</td>\n",
       "      <td>17.0</td>\n",
       "      <td>39.0</td>\n",
       "      <td>36.9</td>\n",
       "      <td>84.7</td>\n",
       "      <td>46024.0</td>\n",
       "      <td>60649-2020-16</td>\n",
       "      <td>POINT (-87.571522 41.762202)</td>\n",
       "    </tr>\n",
       "    <tr>\n",
       "      <th>6157</th>\n",
       "      <td>60620</td>\n",
       "      <td>4</td>\n",
       "      <td>1/23/22</td>\n",
       "      <td>1/29/22</td>\n",
       "      <td>97.0</td>\n",
       "      <td>11808.0</td>\n",
       "      <td>142.0</td>\n",
       "      <td>17340.2</td>\n",
       "      <td>5846.0</td>\n",
       "      <td>207484.0</td>\n",
       "      <td>...</td>\n",
       "      <td>304693.4</td>\n",
       "      <td>0.0</td>\n",
       "      <td>0.1</td>\n",
       "      <td>9.0</td>\n",
       "      <td>267.0</td>\n",
       "      <td>13.2</td>\n",
       "      <td>392.1</td>\n",
       "      <td>68096.0</td>\n",
       "      <td>60620-2022-4</td>\n",
       "      <td>POINT (-87.651656 41.740873)</td>\n",
       "    </tr>\n",
       "    <tr>\n",
       "      <th>6177</th>\n",
       "      <td>60620</td>\n",
       "      <td>2</td>\n",
       "      <td>1/9/22</td>\n",
       "      <td>1/15/22</td>\n",
       "      <td>389.0</td>\n",
       "      <td>11508.0</td>\n",
       "      <td>571.0</td>\n",
       "      <td>16899.7</td>\n",
       "      <td>5438.0</td>\n",
       "      <td>195371.0</td>\n",
       "      <td>...</td>\n",
       "      <td>286905.3</td>\n",
       "      <td>0.1</td>\n",
       "      <td>0.1</td>\n",
       "      <td>13.0</td>\n",
       "      <td>249.0</td>\n",
       "      <td>19.1</td>\n",
       "      <td>365.7</td>\n",
       "      <td>68096.0</td>\n",
       "      <td>60620-2022-2</td>\n",
       "      <td>POINT (-87.651656 41.740873)</td>\n",
       "    </tr>\n",
       "  </tbody>\n",
       "</table>\n",
       "<p>118 rows × 21 columns</p>\n",
       "</div>"
      ],
      "text/plain": [
       "     ZIP Code  Week Number Week Start  Week End  CasesWeekly  \\\n",
       "277     60609           20    5/10/20   5/16/20        244.0   \n",
       "433     60608           24     6/7/20   6/13/20         47.0   \n",
       "847     60623           48   11/22/20  11/28/20        389.0   \n",
       "848     60623           49   11/29/20   12/5/20        464.0   \n",
       "907     60617            3    1/16/22   1/22/22        271.0   \n",
       "...       ...          ...        ...       ...          ...   \n",
       "6035    60647           21    5/17/20   5/23/20        133.0   \n",
       "6119    60649           15     4/5/20   4/11/20         74.0   \n",
       "6120    60649           16    4/12/20   4/18/20         98.0   \n",
       "6157    60620            4    1/23/22   1/29/22         97.0   \n",
       "6177    60620            2     1/9/22   1/15/22        389.0   \n",
       "\n",
       "      Cases - Cumulative  Case Rate - Weekly  Case Rate - Cumulative  \\\n",
       "277               1321.0               397.0                  2148.1   \n",
       "433               1783.0                59.0                  2251.1   \n",
       "847               7556.0               452.0                  8788.2   \n",
       "848               8020.0               540.0                  9327.9   \n",
       "907              14743.0               328.0                 17862.9   \n",
       "...                  ...                 ...                     ...   \n",
       "6035              1204.0               152.0                  1375.9   \n",
       "6119               222.0               161.0                   482.4   \n",
       "6120               320.0               213.0                   695.3   \n",
       "6157             11808.0               142.0                 17340.2   \n",
       "6177             11508.0               571.0                 16899.7   \n",
       "\n",
       "      Tests - Weekly  Tests - Cumulative  ...  Test Rate - Cumulative  \\\n",
       "277           1010.0              3746.0  ...                  6091.6   \n",
       "433            972.0              7793.0  ...                  9839.0   \n",
       "847           2299.0             47647.0  ...                 55417.0   \n",
       "848           3046.0             50693.0  ...                 58959.7   \n",
       "907           5995.0            198854.0  ...                240935.9   \n",
       "...              ...                 ...  ...                     ...   \n",
       "6035           931.0              4939.0  ...                  5644.0   \n",
       "6119           212.0               734.0  ...                  1594.8   \n",
       "6120           308.0              1042.0  ...                  2264.0   \n",
       "6157          5846.0            207484.0  ...                304693.4   \n",
       "6177          5438.0            195371.0  ...                286905.3   \n",
       "\n",
       "      Percent Tested Positive - Weekly  Percent Tested Positive - Cumulative  \\\n",
       "277                                0.3                                   0.3   \n",
       "433                                0.1                                   0.2   \n",
       "847                                0.2                                   0.2   \n",
       "848                                0.2                                   0.2   \n",
       "907                                0.1                                   0.1   \n",
       "...                                ...                                   ...   \n",
       "6035                               0.2                                   0.2   \n",
       "6119                               0.3                                   0.3   \n",
       "6120                               0.3                                   0.3   \n",
       "6157                               0.0                                   0.1   \n",
       "6177                               0.1                                   0.1   \n",
       "\n",
       "      DeathsWeekly  Deaths - Cumulative  Death Rate - Weekly  \\\n",
       "277           11.0                 43.0                 17.9   \n",
       "433           10.0                 61.0                 12.6   \n",
       "847           10.0                196.0                 11.6   \n",
       "848            9.0                205.0                 10.5   \n",
       "907           13.0                236.0                 15.8   \n",
       "...            ...                  ...                  ...   \n",
       "6035          13.0                 69.0                 14.9   \n",
       "6119          12.0                 22.0                 26.1   \n",
       "6120          17.0                 39.0                 36.9   \n",
       "6157           9.0                267.0                 13.2   \n",
       "6177          13.0                249.0                 19.1   \n",
       "\n",
       "      Death Rate - Cumulative  Population         Row ID  \\\n",
       "277                      69.9     61495.0  60609-2020-20   \n",
       "433                      77.0     79205.0  60608-2020-24   \n",
       "847                     228.0     85979.0  60623-2020-48   \n",
       "848                     238.4     85979.0  60623-2020-49   \n",
       "907                     285.9     82534.0   60617-2022-3   \n",
       "...                       ...         ...            ...   \n",
       "6035                     78.8     87509.0  60647-2020-21   \n",
       "6119                     47.8     46024.0  60649-2020-15   \n",
       "6120                     84.7     46024.0  60649-2020-16   \n",
       "6157                    392.1     68096.0   60620-2022-4   \n",
       "6177                    365.7     68096.0   60620-2022-2   \n",
       "\n",
       "                 ZIP Code Location  \n",
       "277   POINT (-87.653382 41.812017)  \n",
       "433   POINT (-87.670366 41.849879)  \n",
       "847   POINT (-87.717446 41.850321)  \n",
       "848   POINT (-87.717446 41.850321)  \n",
       "907   POINT (-87.556897 41.721257)  \n",
       "...                            ...  \n",
       "6035  POINT (-87.701101 41.921058)  \n",
       "6119  POINT (-87.571522 41.762202)  \n",
       "6120  POINT (-87.571522 41.762202)  \n",
       "6157  POINT (-87.651656 41.740873)  \n",
       "6177  POINT (-87.651656 41.740873)  \n",
       "\n",
       "[118 rows x 21 columns]"
      ]
     },
     "execution_count": 480,
     "metadata": {},
     "output_type": "execute_result"
    }
   ],
   "source": [
    "df[df['DeathsWeekly']>maxthreshold_Deaths]"
   ]
  },
  {
   "cell_type": "code",
   "execution_count": 481,
   "id": "a4a16c91",
   "metadata": {},
   "outputs": [
    {
     "data": {
      "text/plain": [
       "(6623, 21)"
      ]
     },
     "execution_count": 481,
     "metadata": {},
     "output_type": "execute_result"
    }
   ],
   "source": [
    "df2=df[(df.DeathsWeekly<maxthreshold_Deaths)]\n",
    "df2.shape"
   ]
  },
  {
   "cell_type": "code",
   "execution_count": 482,
   "id": "543e7894",
   "metadata": {},
   "outputs": [
    {
     "data": {
      "text/plain": [
       "567.0"
      ]
     },
     "execution_count": 482,
     "metadata": {},
     "output_type": "execute_result"
    }
   ],
   "source": [
    "#Finding and getting rid of outliers\n",
    "maxthreshold_Cases= df2['CasesWeekly'].quantile(0.98)\n",
    "maxthreshold_Cases"
   ]
  },
  {
   "cell_type": "code",
   "execution_count": 483,
   "id": "0fa8e43a",
   "metadata": {},
   "outputs": [
    {
     "data": {
      "text/html": [
       "<div>\n",
       "<style scoped>\n",
       "    .dataframe tbody tr th:only-of-type {\n",
       "        vertical-align: middle;\n",
       "    }\n",
       "\n",
       "    .dataframe tbody tr th {\n",
       "        vertical-align: top;\n",
       "    }\n",
       "\n",
       "    .dataframe thead th {\n",
       "        text-align: right;\n",
       "    }\n",
       "</style>\n",
       "<table border=\"1\" class=\"dataframe\">\n",
       "  <thead>\n",
       "    <tr style=\"text-align: right;\">\n",
       "      <th></th>\n",
       "      <th>ZIP Code</th>\n",
       "      <th>Week Number</th>\n",
       "      <th>Week Start</th>\n",
       "      <th>Week End</th>\n",
       "      <th>CasesWeekly</th>\n",
       "      <th>Cases - Cumulative</th>\n",
       "      <th>Case Rate - Weekly</th>\n",
       "      <th>Case Rate - Cumulative</th>\n",
       "      <th>Tests - Weekly</th>\n",
       "      <th>Tests - Cumulative</th>\n",
       "      <th>...</th>\n",
       "      <th>Test Rate - Cumulative</th>\n",
       "      <th>Percent Tested Positive - Weekly</th>\n",
       "      <th>Percent Tested Positive - Cumulative</th>\n",
       "      <th>DeathsWeekly</th>\n",
       "      <th>Deaths - Cumulative</th>\n",
       "      <th>Death Rate - Weekly</th>\n",
       "      <th>Death Rate - Cumulative</th>\n",
       "      <th>Population</th>\n",
       "      <th>Row ID</th>\n",
       "      <th>ZIP Code Location</th>\n",
       "    </tr>\n",
       "  </thead>\n",
       "  <tbody>\n",
       "    <tr>\n",
       "      <th>45</th>\n",
       "      <td>60608</td>\n",
       "      <td>1</td>\n",
       "      <td>1/2/22</td>\n",
       "      <td>1/8/22</td>\n",
       "      <td>1225.0</td>\n",
       "      <td>13675.0</td>\n",
       "      <td>1547.0</td>\n",
       "      <td>17265.3</td>\n",
       "      <td>6964.0</td>\n",
       "      <td>214020.0</td>\n",
       "      <td>...</td>\n",
       "      <td>270210.2</td>\n",
       "      <td>0.2</td>\n",
       "      <td>0.1</td>\n",
       "      <td>3.0</td>\n",
       "      <td>183.0</td>\n",
       "      <td>3.8</td>\n",
       "      <td>231.0</td>\n",
       "      <td>79205.0</td>\n",
       "      <td>60608-2022-1</td>\n",
       "      <td>POINT (-87.670366 41.849879)</td>\n",
       "    </tr>\n",
       "    <tr>\n",
       "      <th>151</th>\n",
       "      <td>60608</td>\n",
       "      <td>2</td>\n",
       "      <td>1/9/22</td>\n",
       "      <td>1/15/22</td>\n",
       "      <td>729.0</td>\n",
       "      <td>14404.0</td>\n",
       "      <td>920.0</td>\n",
       "      <td>18185.7</td>\n",
       "      <td>6252.0</td>\n",
       "      <td>220272.0</td>\n",
       "      <td>...</td>\n",
       "      <td>278103.7</td>\n",
       "      <td>0.1</td>\n",
       "      <td>0.1</td>\n",
       "      <td>2.0</td>\n",
       "      <td>185.0</td>\n",
       "      <td>2.5</td>\n",
       "      <td>233.6</td>\n",
       "      <td>79205.0</td>\n",
       "      <td>60608-2022-2</td>\n",
       "      <td>POINT (-87.670366 41.849879)</td>\n",
       "    </tr>\n",
       "    <tr>\n",
       "      <th>235</th>\n",
       "      <td>60601</td>\n",
       "      <td>52</td>\n",
       "      <td>12/26/21</td>\n",
       "      <td>1/1/22</td>\n",
       "      <td>596.0</td>\n",
       "      <td>2912.0</td>\n",
       "      <td>4061.0</td>\n",
       "      <td>19843.3</td>\n",
       "      <td>2376.0</td>\n",
       "      <td>73828.0</td>\n",
       "      <td>...</td>\n",
       "      <td>503086.9</td>\n",
       "      <td>0.3</td>\n",
       "      <td>0.0</td>\n",
       "      <td>0.0</td>\n",
       "      <td>12.0</td>\n",
       "      <td>0.0</td>\n",
       "      <td>81.8</td>\n",
       "      <td>14675.0</td>\n",
       "      <td>60601-2021-52</td>\n",
       "      <td>POINT (-87.622844 41.886262)</td>\n",
       "    </tr>\n",
       "    <tr>\n",
       "      <th>454</th>\n",
       "      <td>60608</td>\n",
       "      <td>52</td>\n",
       "      <td>12/26/21</td>\n",
       "      <td>1/1/22</td>\n",
       "      <td>1377.0</td>\n",
       "      <td>12450.0</td>\n",
       "      <td>1738.0</td>\n",
       "      <td>15718.7</td>\n",
       "      <td>6478.0</td>\n",
       "      <td>207056.0</td>\n",
       "      <td>...</td>\n",
       "      <td>261417.8</td>\n",
       "      <td>0.2</td>\n",
       "      <td>0.1</td>\n",
       "      <td>4.0</td>\n",
       "      <td>180.0</td>\n",
       "      <td>5.1</td>\n",
       "      <td>227.3</td>\n",
       "      <td>79205.0</td>\n",
       "      <td>60608-2021-52</td>\n",
       "      <td>POINT (-87.670366 41.849879)</td>\n",
       "    </tr>\n",
       "    <tr>\n",
       "      <th>510</th>\n",
       "      <td>60609</td>\n",
       "      <td>2</td>\n",
       "      <td>1/9/22</td>\n",
       "      <td>1/15/22</td>\n",
       "      <td>668.0</td>\n",
       "      <td>12411.0</td>\n",
       "      <td>1086.0</td>\n",
       "      <td>20182.1</td>\n",
       "      <td>5483.0</td>\n",
       "      <td>166212.0</td>\n",
       "      <td>...</td>\n",
       "      <td>270285.4</td>\n",
       "      <td>0.1</td>\n",
       "      <td>0.1</td>\n",
       "      <td>7.0</td>\n",
       "      <td>194.0</td>\n",
       "      <td>11.4</td>\n",
       "      <td>315.5</td>\n",
       "      <td>61495.0</td>\n",
       "      <td>60609-2022-2</td>\n",
       "      <td>POINT (-87.653382 41.812017)</td>\n",
       "    </tr>\n",
       "    <tr>\n",
       "      <th>...</th>\n",
       "      <td>...</td>\n",
       "      <td>...</td>\n",
       "      <td>...</td>\n",
       "      <td>...</td>\n",
       "      <td>...</td>\n",
       "      <td>...</td>\n",
       "      <td>...</td>\n",
       "      <td>...</td>\n",
       "      <td>...</td>\n",
       "      <td>...</td>\n",
       "      <td>...</td>\n",
       "      <td>...</td>\n",
       "      <td>...</td>\n",
       "      <td>...</td>\n",
       "      <td>...</td>\n",
       "      <td>...</td>\n",
       "      <td>...</td>\n",
       "      <td>...</td>\n",
       "      <td>...</td>\n",
       "      <td>...</td>\n",
       "      <td>...</td>\n",
       "    </tr>\n",
       "    <tr>\n",
       "      <th>7192</th>\n",
       "      <td>60657</td>\n",
       "      <td>50</td>\n",
       "      <td>12/12/21</td>\n",
       "      <td>12/18/21</td>\n",
       "      <td>922.0</td>\n",
       "      <td>8510.0</td>\n",
       "      <td>1316.0</td>\n",
       "      <td>12148.1</td>\n",
       "      <td>10590.0</td>\n",
       "      <td>221439.0</td>\n",
       "      <td>...</td>\n",
       "      <td>316106.6</td>\n",
       "      <td>0.1</td>\n",
       "      <td>0.0</td>\n",
       "      <td>1.0</td>\n",
       "      <td>50.0</td>\n",
       "      <td>1.4</td>\n",
       "      <td>71.4</td>\n",
       "      <td>70052.0</td>\n",
       "      <td>60657-2021-50</td>\n",
       "      <td>POINT (-87.658216 41.939715)</td>\n",
       "    </tr>\n",
       "    <tr>\n",
       "      <th>7194</th>\n",
       "      <td>60657</td>\n",
       "      <td>51</td>\n",
       "      <td>12/19/21</td>\n",
       "      <td>12/25/21</td>\n",
       "      <td>1257.0</td>\n",
       "      <td>9767.0</td>\n",
       "      <td>1794.0</td>\n",
       "      <td>13942.5</td>\n",
       "      <td>12111.0</td>\n",
       "      <td>233550.0</td>\n",
       "      <td>...</td>\n",
       "      <td>333395.2</td>\n",
       "      <td>0.1</td>\n",
       "      <td>0.0</td>\n",
       "      <td>1.0</td>\n",
       "      <td>51.0</td>\n",
       "      <td>1.4</td>\n",
       "      <td>72.8</td>\n",
       "      <td>70052.0</td>\n",
       "      <td>60657-2021-51</td>\n",
       "      <td>POINT (-87.658216 41.939715)</td>\n",
       "    </tr>\n",
       "    <tr>\n",
       "      <th>7195</th>\n",
       "      <td>60657</td>\n",
       "      <td>52</td>\n",
       "      <td>12/26/21</td>\n",
       "      <td>1/1/22</td>\n",
       "      <td>983.0</td>\n",
       "      <td>10750.0</td>\n",
       "      <td>1403.0</td>\n",
       "      <td>15345.7</td>\n",
       "      <td>7009.0</td>\n",
       "      <td>240559.0</td>\n",
       "      <td>...</td>\n",
       "      <td>343400.6</td>\n",
       "      <td>0.2</td>\n",
       "      <td>0.0</td>\n",
       "      <td>0.0</td>\n",
       "      <td>51.0</td>\n",
       "      <td>0.0</td>\n",
       "      <td>72.8</td>\n",
       "      <td>70052.0</td>\n",
       "      <td>60657-2021-52</td>\n",
       "      <td>POINT (-87.658216 41.939715)</td>\n",
       "    </tr>\n",
       "    <tr>\n",
       "      <th>7200</th>\n",
       "      <td>60657</td>\n",
       "      <td>1</td>\n",
       "      <td>1/2/22</td>\n",
       "      <td>1/8/22</td>\n",
       "      <td>940.0</td>\n",
       "      <td>11690.0</td>\n",
       "      <td>1342.0</td>\n",
       "      <td>16687.6</td>\n",
       "      <td>7796.0</td>\n",
       "      <td>248355.0</td>\n",
       "      <td>...</td>\n",
       "      <td>354529.5</td>\n",
       "      <td>0.1</td>\n",
       "      <td>0.1</td>\n",
       "      <td>4.0</td>\n",
       "      <td>55.0</td>\n",
       "      <td>5.7</td>\n",
       "      <td>78.5</td>\n",
       "      <td>70052.0</td>\n",
       "      <td>60657-2022-1</td>\n",
       "      <td>POINT (-87.658216 41.939715)</td>\n",
       "    </tr>\n",
       "    <tr>\n",
       "      <th>7225</th>\n",
       "      <td>60657</td>\n",
       "      <td>2</td>\n",
       "      <td>1/9/22</td>\n",
       "      <td>1/15/22</td>\n",
       "      <td>574.0</td>\n",
       "      <td>12264.0</td>\n",
       "      <td>819.0</td>\n",
       "      <td>17507.0</td>\n",
       "      <td>6844.0</td>\n",
       "      <td>255199.0</td>\n",
       "      <td>...</td>\n",
       "      <td>364299.4</td>\n",
       "      <td>0.1</td>\n",
       "      <td>0.1</td>\n",
       "      <td>0.0</td>\n",
       "      <td>55.0</td>\n",
       "      <td>0.0</td>\n",
       "      <td>78.5</td>\n",
       "      <td>70052.0</td>\n",
       "      <td>60657-2022-2</td>\n",
       "      <td>POINT (-87.658216 41.939715)</td>\n",
       "    </tr>\n",
       "  </tbody>\n",
       "</table>\n",
       "<p>151 rows × 21 columns</p>\n",
       "</div>"
      ],
      "text/plain": [
       "     ZIP Code  Week Number Week Start  Week End  CasesWeekly  \\\n",
       "45      60608            1     1/2/22    1/8/22       1225.0   \n",
       "151     60608            2     1/9/22   1/15/22        729.0   \n",
       "235     60601           52   12/26/21    1/1/22        596.0   \n",
       "454     60608           52   12/26/21    1/1/22       1377.0   \n",
       "510     60609            2     1/9/22   1/15/22        668.0   \n",
       "...       ...          ...        ...       ...          ...   \n",
       "7192    60657           50   12/12/21  12/18/21        922.0   \n",
       "7194    60657           51   12/19/21  12/25/21       1257.0   \n",
       "7195    60657           52   12/26/21    1/1/22        983.0   \n",
       "7200    60657            1     1/2/22    1/8/22        940.0   \n",
       "7225    60657            2     1/9/22   1/15/22        574.0   \n",
       "\n",
       "      Cases - Cumulative  Case Rate - Weekly  Case Rate - Cumulative  \\\n",
       "45               13675.0              1547.0                 17265.3   \n",
       "151              14404.0               920.0                 18185.7   \n",
       "235               2912.0              4061.0                 19843.3   \n",
       "454              12450.0              1738.0                 15718.7   \n",
       "510              12411.0              1086.0                 20182.1   \n",
       "...                  ...                 ...                     ...   \n",
       "7192              8510.0              1316.0                 12148.1   \n",
       "7194              9767.0              1794.0                 13942.5   \n",
       "7195             10750.0              1403.0                 15345.7   \n",
       "7200             11690.0              1342.0                 16687.6   \n",
       "7225             12264.0               819.0                 17507.0   \n",
       "\n",
       "      Tests - Weekly  Tests - Cumulative  ...  Test Rate - Cumulative  \\\n",
       "45            6964.0            214020.0  ...                270210.2   \n",
       "151           6252.0            220272.0  ...                278103.7   \n",
       "235           2376.0             73828.0  ...                503086.9   \n",
       "454           6478.0            207056.0  ...                261417.8   \n",
       "510           5483.0            166212.0  ...                270285.4   \n",
       "...              ...                 ...  ...                     ...   \n",
       "7192         10590.0            221439.0  ...                316106.6   \n",
       "7194         12111.0            233550.0  ...                333395.2   \n",
       "7195          7009.0            240559.0  ...                343400.6   \n",
       "7200          7796.0            248355.0  ...                354529.5   \n",
       "7225          6844.0            255199.0  ...                364299.4   \n",
       "\n",
       "      Percent Tested Positive - Weekly  Percent Tested Positive - Cumulative  \\\n",
       "45                                 0.2                                   0.1   \n",
       "151                                0.1                                   0.1   \n",
       "235                                0.3                                   0.0   \n",
       "454                                0.2                                   0.1   \n",
       "510                                0.1                                   0.1   \n",
       "...                                ...                                   ...   \n",
       "7192                               0.1                                   0.0   \n",
       "7194                               0.1                                   0.0   \n",
       "7195                               0.2                                   0.0   \n",
       "7200                               0.1                                   0.1   \n",
       "7225                               0.1                                   0.1   \n",
       "\n",
       "      DeathsWeekly  Deaths - Cumulative  Death Rate - Weekly  \\\n",
       "45             3.0                183.0                  3.8   \n",
       "151            2.0                185.0                  2.5   \n",
       "235            0.0                 12.0                  0.0   \n",
       "454            4.0                180.0                  5.1   \n",
       "510            7.0                194.0                 11.4   \n",
       "...            ...                  ...                  ...   \n",
       "7192           1.0                 50.0                  1.4   \n",
       "7194           1.0                 51.0                  1.4   \n",
       "7195           0.0                 51.0                  0.0   \n",
       "7200           4.0                 55.0                  5.7   \n",
       "7225           0.0                 55.0                  0.0   \n",
       "\n",
       "      Death Rate - Cumulative  Population         Row ID  \\\n",
       "45                      231.0     79205.0   60608-2022-1   \n",
       "151                     233.6     79205.0   60608-2022-2   \n",
       "235                      81.8     14675.0  60601-2021-52   \n",
       "454                     227.3     79205.0  60608-2021-52   \n",
       "510                     315.5     61495.0   60609-2022-2   \n",
       "...                       ...         ...            ...   \n",
       "7192                     71.4     70052.0  60657-2021-50   \n",
       "7194                     72.8     70052.0  60657-2021-51   \n",
       "7195                     72.8     70052.0  60657-2021-52   \n",
       "7200                     78.5     70052.0   60657-2022-1   \n",
       "7225                     78.5     70052.0   60657-2022-2   \n",
       "\n",
       "                 ZIP Code Location  \n",
       "45    POINT (-87.670366 41.849879)  \n",
       "151   POINT (-87.670366 41.849879)  \n",
       "235   POINT (-87.622844 41.886262)  \n",
       "454   POINT (-87.670366 41.849879)  \n",
       "510   POINT (-87.653382 41.812017)  \n",
       "...                            ...  \n",
       "7192  POINT (-87.658216 41.939715)  \n",
       "7194  POINT (-87.658216 41.939715)  \n",
       "7195  POINT (-87.658216 41.939715)  \n",
       "7200  POINT (-87.658216 41.939715)  \n",
       "7225  POINT (-87.658216 41.939715)  \n",
       "\n",
       "[151 rows x 21 columns]"
      ]
     },
     "execution_count": 483,
     "metadata": {},
     "output_type": "execute_result"
    }
   ],
   "source": [
    "df[df['CasesWeekly']>maxthreshold_Cases]"
   ]
  },
  {
   "cell_type": "code",
   "execution_count": 484,
   "id": "dc4c2701",
   "metadata": {},
   "outputs": [
    {
     "data": {
      "text/plain": [
       "(6628, 21)"
      ]
     },
     "execution_count": 484,
     "metadata": {},
     "output_type": "execute_result"
    }
   ],
   "source": [
    "df3=df[(df.CasesWeekly<maxthreshold_Cases)]\n",
    "df3.shape"
   ]
  },
  {
   "cell_type": "code",
   "execution_count": 485,
   "id": "0f3bc6f9",
   "metadata": {},
   "outputs": [],
   "source": [
    "df4 = df[(df.CasesWeekly<maxthreshold_Cases) &(df.DeathsWeekly<maxthreshold_Deaths)]"
   ]
  },
  {
   "cell_type": "code",
   "execution_count": 486,
   "id": "1da1a7e8",
   "metadata": {},
   "outputs": [],
   "source": [
    "X = df4['CasesWeekly'].values.reshape(-1,1)\n",
    "y = df4['DeathsWeekly'].values.reshape(-1,1)"
   ]
  },
  {
   "cell_type": "code",
   "execution_count": 487,
   "id": "2c47980e",
   "metadata": {},
   "outputs": [],
   "source": [
    "X_train, X_test, y_train, y_test = train_test_split(X, y, test_size = 0.2, random_state = 0)"
   ]
  },
  {
   "cell_type": "code",
   "execution_count": 488,
   "id": "b53fd7e6",
   "metadata": {},
   "outputs": [
    {
     "data": {
      "text/plain": [
       "LinearRegression()"
      ]
     },
     "execution_count": 488,
     "metadata": {},
     "output_type": "execute_result"
    }
   ],
   "source": [
    "regressor = LinearRegression() \n",
    "regressor.fit(X_train, y_train) #training the algorithm"
   ]
  },
  {
   "cell_type": "code",
   "execution_count": 489,
   "id": "3353ae3d",
   "metadata": {},
   "outputs": [
    {
     "name": "stdout",
     "output_type": "stream",
     "text": [
      "[0.40888828]\n",
      "[[0.0062249]]\n"
     ]
    }
   ],
   "source": [
    "#To retrieve the intercept:\n",
    "print(regressor.intercept_)\n",
    "#For retrieving the slope:\n",
    "print(regressor.coef_)"
   ]
  },
  {
   "cell_type": "code",
   "execution_count": 490,
   "id": "5f2ae424",
   "metadata": {},
   "outputs": [],
   "source": [
    "y_pred = regressor.predict(X_test)"
   ]
  },
  {
   "cell_type": "code",
   "execution_count": 491,
   "id": "1cf708ed",
   "metadata": {},
   "outputs": [
    {
     "data": {
      "text/plain": [
       "array([[ 32.],\n",
       "       [102.],\n",
       "       [ 24.],\n",
       "       ...,\n",
       "       [ 49.],\n",
       "       [ 37.],\n",
       "       [ 19.]])"
      ]
     },
     "execution_count": 491,
     "metadata": {},
     "output_type": "execute_result"
    }
   ],
   "source": [
    "X_test"
   ]
  },
  {
   "cell_type": "code",
   "execution_count": 492,
   "id": "b9e28b62",
   "metadata": {},
   "outputs": [
    {
     "data": {
      "text/plain": [
       "array([[0.60808523],\n",
       "       [1.04382855],\n",
       "       [0.55828599],\n",
       "       ...,\n",
       "       [0.71390861],\n",
       "       [0.63920975],\n",
       "       [0.52716147]])"
      ]
     },
     "execution_count": 492,
     "metadata": {},
     "output_type": "execute_result"
    }
   ],
   "source": [
    "y_pred"
   ]
  },
  {
   "cell_type": "code",
   "execution_count": 493,
   "id": "57f463e9",
   "metadata": {},
   "outputs": [
    {
     "data": {
      "image/png": "[encoded data removed]",
      "text/plain": [
       "<Figure size 432x288 with 1 Axes>"
      ]
     },
     "metadata": {
      "needs_background": "light"
     },
     "output_type": "display_data"
    }
   ],
   "source": [
    "plt.scatter(X_test, y_test, color='gray')\n",
    "plt.plot(X_test, y_pred, color='red', linewidth=2)\n",
    "plt.show()\n",
    "#Here we can see the relationship between CasessWeekly\n",
    "#and DeathsWeekly with the outliers removed.\n",
    "#There is a stronger relationsjp than before."
   ]
  },
  {
   "cell_type": "code",
   "execution_count": 494,
   "id": "f33950ac",
   "metadata": {},
   "outputs": [],
   "source": [
    "filter_data = df.dropna(subset=['CasesWeekly'])"
   ]
  },
  {
   "cell_type": "code",
   "execution_count": 495,
   "id": "fd6da90d",
   "metadata": {},
   "outputs": [
    {
     "name": "stderr",
     "output_type": "stream",
     "text": [
      "/Users/rosemary/opt/anaconda3/lib/python3.9/site-packages/seaborn/distributions.py:2619: FutureWarning: `distplot` is a deprecated function and will be removed in a future version. Please adapt your code to use either `displot` (a figure-level function with similar flexibility) or `histplot` (an axes-level function for histograms).\n",
      "  warnings.warn(msg, FutureWarning)\n"
     ]
    },
    {
     "data": {
      "text/plain": [
       "<AxesSubplot:xlabel='CasesWeekly'>"
      ]
     },
     "execution_count": 495,
     "metadata": {},
     "output_type": "execute_result"
    },
    {
     "data": {
      "image/png": "[encoded data removed]",
      "text/plain": [
       "<Figure size 432x288 with 1 Axes>"
      ]
     },
     "metadata": {
      "needs_background": "light"
     },
     "output_type": "display_data"
    }
   ],
   "source": [
    "sns.distplot(filter_data['CasesWeekly'], kde=False)\n",
    "#Cases – Weekly\n",
    "#Mean 68.47\n",
    "#Std 97.03\n",
    "#Max 1231\n",
    "#Min 0\n",
    "#1st Q 14\n",
    "#Median 36\n",
    "#3rd Q 84"
   ]
  },
  {
   "cell_type": "code",
   "execution_count": 496,
   "id": "21d9f742",
   "metadata": {},
   "outputs": [],
   "source": [
    "filter_data = df.dropna(subset=['DeathsWeekly'])"
   ]
  },
  {
   "cell_type": "code",
   "execution_count": 497,
   "id": "0142200b",
   "metadata": {},
   "outputs": [
    {
     "name": "stderr",
     "output_type": "stream",
     "text": [
      "/Users/rosemary/opt/anaconda3/lib/python3.9/site-packages/seaborn/distributions.py:2619: FutureWarning: `distplot` is a deprecated function and will be removed in a future version. Please adapt your code to use either `displot` (a figure-level function with similar flexibility) or `histplot` (an axes-level function for histograms).\n",
      "  warnings.warn(msg, FutureWarning)\n"
     ]
    },
    {
     "data": {
      "image/png": "[encoded data removed]",
      "text/plain": [
       "<Figure size 432x288 with 1 Axes>"
      ]
     },
     "metadata": {
      "needs_background": "light"
     },
     "output_type": "display_data"
    }
   ],
   "source": [
    "sns.distplot(filter_data['DeathsWeekly'], kde=False)\n",
    "plt.rcParams[\"figure.figsize\"] = (10,4)\n",
    "\n",
    "#Deaths – Weekly\n",
    "#Mean 1.34\n",
    "#Std 2.39\n",
    "#Max 25\n",
    "#Min 0\n",
    "#1st Q 0\n",
    "#Median 0\n",
    "#3rd Q 2"
   ]
  },
  {
   "cell_type": "code",
   "execution_count": 498,
   "id": "e0e5f51e",
   "metadata": {},
   "outputs": [
    {
     "data": {
      "image/png": "[encoded data removed]",
      "text/plain": [
       "<Figure size 1440x2160 with 1 Axes>"
      ]
     },
     "metadata": {
      "needs_background": "light"
     },
     "output_type": "display_data"
    }
   ],
   "source": [
    "plt.figure(figsize=(20,30))\n",
    "sns.set(style='darkgrid')\n",
    "ax = sns.countplot(y='ZIP Code', data=df)\n",
    "#The majority of zip codes had similar numbers"
   ]
  },
  {
   "cell_type": "code",
   "execution_count": 499,
   "id": "1d9e1774",
   "metadata": {},
   "outputs": [
    {
     "data": {
      "text/plain": [
       "<AxesSubplot:>"
      ]
     },
     "execution_count": 499,
     "metadata": {},
     "output_type": "execute_result"
    },
    {
     "data": {
      "image/png": "[encoded data removed]",
      "text/plain": [
       "<Figure size 864x504 with 2 Axes>"
      ]
     },
     "metadata": {},
     "output_type": "display_data"
    }
   ],
   "source": [
    "plt.figure(figsize=(12,7))\n",
    "corr = df.corr(method='pearson')\n",
    "sns.heatmap(corr)"
   ]
  },
  {
   "cell_type": "code",
   "execution_count": 500,
   "id": "e1da6b53",
   "metadata": {},
   "outputs": [
    {
     "data": {
      "text/plain": [
       "Int64Index([   0,    1,    2,    3,    4,    5,    6,    7,    8,    9,\n",
       "            ...\n",
       "            7309, 7310, 7311, 7312, 7313, 7314, 7315, 7316, 7317, 7319],\n",
       "           dtype='int64', length=6781)"
      ]
     },
     "execution_count": 500,
     "metadata": {},
     "output_type": "execute_result"
    }
   ],
   "source": [
    "df.index"
   ]
  },
  {
   "cell_type": "code",
   "execution_count": 501,
   "id": "018f0a1b",
   "metadata": {},
   "outputs": [
    {
     "data": {
      "image/png": "[encoded data removed]",
      "text/plain": [
       "<Figure size 576x432 with 1 Axes>"
      ]
     },
     "metadata": {},
     "output_type": "display_data"
    }
   ],
   "source": [
    "plt.rcParams[\"figure.figsize\"] = (8, 6)\n",
    "df.plot(x='Week Number', y='CasesWeekly')\n",
    "plt.show()\n",
    "#impossible to read due to the amount\n",
    "#of records and overlapping data, but\n",
    "#you can see that some weeks had significantly\n",
    "#higher cases reported than others"
   ]
  },
  {
   "cell_type": "code",
   "execution_count": 502,
   "id": "a7216094",
   "metadata": {},
   "outputs": [
    {
     "data": {
      "image/png": "[encoded data removed]",
      "text/plain": [
       "<Figure size 576x432 with 1 Axes>"
      ]
     },
     "metadata": {},
     "output_type": "display_data"
    }
   ],
   "source": [
    "#plt.figure(figsize=(12,10))\n",
    "np.random.seed(1234)\n",
    "df=pd.DataFrame(np.random.rand(10,3),\n",
    "columns=['Tests - Weekly', 'CasesWeekly', 'DeathsWeekly'])\n",
    "boxplot = df.boxplot(column=['Tests - Weekly', 'CasesWeekly', 'DeathsWeekly'])\n",
    "#These boxplots show that there is a huge range\n",
    "#in Tests – Weekly, a smaller (but still large) range in Cases – Weekly,\n",
    "#and a small range in Deaths – Weekly."
   ]
  },
  {
   "cell_type": "code",
   "execution_count": null,
   "id": "6723b14d",
   "metadata": {},
   "outputs": [],
   "source": []
  },
  {
   "cell_type": "code",
   "execution_count": null,
   "id": "c68dc4f9",
   "metadata": {},
   "outputs": [],
   "source": []
  },
  {
   "cell_type": "code",
   "execution_count": null,
   "id": "220361c7",
   "metadata": {},
   "outputs": [],
   "source": []
  }
 ],
 "metadata": {
  "kernelspec": {
   "display_name": "Python 3 (ipykernel)",
   "language": "python",
   "name": "python3"
  },
  "language_info": {
   "codemirror_mode": {
    "name": "ipython",
    "version": 3
   },
   "file_extension": ".py",
   "mimetype": "text/x-python",
   "name": "python",
   "nbconvert_exporter": "python",
   "pygments_lexer": "ipython3",
   "version": "3.9.12"
  }
 },
 "nbformat": 4,
 "nbformat_minor": 5
}
